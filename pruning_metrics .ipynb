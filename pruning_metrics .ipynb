{
 "cells": [
  {
   "cell_type": "markdown",
   "metadata": {},
   "source": [
    "# Pruning the metrics "
   ]
  },
  {
   "cell_type": "markdown",
   "metadata": {},
   "source": [
    "###### Imports "
   ]
  },
  {
   "cell_type": "code",
   "execution_count": 1,
   "metadata": {},
   "outputs": [],
   "source": [
    "import pandas as pd\n",
    "import numpy as np\n",
    "import matplotlib.pyplot as plt\n",
    "from sklearn.decomposition import FactorAnalysis, PCA\n",
    "from sklearn.cluster import KMeans, MeanShift\n",
    "import collections\n",
    "%matplotlib inline\n",
    "plt.rcParams['figure.figsize'] = [9, 9]"
   ]
  },
  {
   "cell_type": "markdown",
   "metadata": {},
   "source": [
    "## Utilities "
   ]
  },
  {
   "cell_type": "markdown",
   "metadata": {},
   "source": [
    "### Helper class to approximate optimal K"
   ]
  },
  {
   "cell_type": "code",
   "execution_count": 2,
   "metadata": {},
   "outputs": [],
   "source": [
    "class DetK():\n",
    "    \n",
    "    \"\"\"DetK:\n",
    "    Approximates the optimal number of clusters (K).\n",
    "    References\n",
    "    ----------\n",
    "    https://www.ee.columbia.edu/~dpwe/papers/PhamDN05-kmeans.pdf\n",
    "    Attributes\n",
    "    ----------\n",
    "    optimal_num_clusters_ : int\n",
    "                            An estimation of the optimal number of clusters K for\n",
    "                            KMeans models fit to X\n",
    "    clusters_ : array, [n_clusters]\n",
    "                The sizes of the clusters\n",
    "    name_ : string\n",
    "            The name of this technique\n",
    "    fs_ : array, [n_clusters]\n",
    "          The computed evaluation functions F(K) for each cluster size K\n",
    "    \"\"\"\n",
    "\n",
    "    def __init__(self):\n",
    "        self.optimal_num_clusters_ = None\n",
    "        self.clusters_ = None\n",
    "        self.fs_ = None\n",
    "\n",
    "    def _reset(self):\n",
    "        \"\"\"Resets all attributes (erases the model)\"\"\"\n",
    "        self.optimal_num_clusters_ = None\n",
    "        self.clusters_ = None\n",
    "        self.fs_ = None\n",
    "\n",
    "    def fit(self, X, cluster_map):\n",
    "        \"\"\"Estimates the optimal number of clusters (K) for a\n",
    "           KMeans model trained on X.\n",
    "        Parameters\n",
    "        ----------\n",
    "        X : array-like, shape (n_samples, n_features)\n",
    "            Training data.\n",
    "        cluster_map_ : dict\n",
    "                       A dictionary mapping each cluster size (K) to the KMeans\n",
    "                       model fitted to X with K clusters\n",
    "        Returns\n",
    "        -------\n",
    "        self\n",
    "        \"\"\"\n",
    "        self._reset()\n",
    "        n_clusters = len(cluster_map)\n",
    "        nd = X.shape[1]\n",
    "        fs = np.empty(n_clusters)\n",
    "        sks = np.empty(n_clusters)\n",
    "        alpha = {}\n",
    "        # K from 1 to maximum_cluster_\n",
    "        for i, (K, model) \\\n",
    "                in enumerate(sorted(cluster_map.items())):\n",
    "            # Compute alpha(K, nd) (i.e. alpha[K])\n",
    "            if K == 2:\n",
    "                alpha[K] = 1 - 3.0 / (4 * nd)\n",
    "            elif K > 2:\n",
    "                alpha[K] = alpha[K - 1] + (1 - alpha[K - 1]) / 6.0\n",
    "            sks[i] = model.inertia_\n",
    "\n",
    "            if K == 1:\n",
    "                fs[i] = 1\n",
    "            elif sks[i - 1] == 0:\n",
    "                fs[i] = 1\n",
    "            else:\n",
    "                fs[i] = sks[i] / (alpha[K] * sks[i - 1])\n",
    "        self.clusters_ = np.array(sorted(cluster_map.keys()))\n",
    "        self.optimal_num_clusters_ = self.clusters_[np.argmin(fs)]\n",
    "        self.fs_ = fs\n",
    "        return self"
   ]
  },
  {
   "cell_type": "markdown",
   "metadata": {},
   "source": [
    "### Obtain Cluster Map Needed for DetK "
   ]
  },
  {
   "cell_type": "code",
   "execution_count": 3,
   "metadata": {},
   "outputs": [],
   "source": [
    "def get_cluster_map(X, min_cluster, max_cluster):\n",
    "    cluster_map = {}\n",
    "    for k in range(min_cluster, max_cluster + 1):\n",
    "        tmp = KMeans(n_clusters = k).fit(X)\n",
    "        if tmp is None:  # Set maximum cluster\n",
    "            assert K > min_cluster, \"min_cluster is too large for the model\"\n",
    "            self.max_cluster_ = k - 1\n",
    "            break\n",
    "        else:\n",
    "            cluster_map[k] = tmp\n",
    "    return cluster_map"
   ]
  },
  {
   "cell_type": "markdown",
   "metadata": {},
   "source": [
    "#### Read the CSV "
   ]
  },
  {
   "cell_type": "code",
   "execution_count": 4,
   "metadata": {},
   "outputs": [
    {
     "name": "stderr",
     "output_type": "stream",
     "text": [
      "/home/aparna/anaconda3/lib/python3.7/site-packages/pandas/core/indexes/base.py:3940: FutureWarning: Using a non-tuple sequence for multidimensional indexing is deprecated; use `arr[tuple(seq)]` instead of `arr[seq]`. In the future this will be interpreted as an array index, `arr[np.array(seq)]`, which will result either in an error or a different result.\n",
      "  result = getitem(key)\n"
     ]
    }
   ],
   "source": [
    "off = pd.read_csv('offline_workload.CSV')\n",
    "off_metrics = off.drop(off.columns[[range(14)]], axis=1).transpose()"
   ]
  },
  {
   "cell_type": "markdown",
   "metadata": {},
   "source": [
    "#### Perform Factor Analysis with (n=2) components"
   ]
  },
  {
   "cell_type": "code",
   "execution_count": 5,
   "metadata": {},
   "outputs": [],
   "source": [
    "fa = FactorAnalysis(n_components = 2)\n",
    "metrics = fa.fit_transform(off_metrics)\n"
   ]
  },
  {
   "cell_type": "code",
   "execution_count": null,
   "metadata": {},
   "outputs": [],
   "source": [
    "cov_matrix = fa.get_covariance()\n",
    "comp = fa.components_\n"
   ]
  },
  {
   "cell_type": "markdown",
   "metadata": {},
   "source": [
    "#### Obtain Cluster map for the metrics "
   ]
  },
  {
   "cell_type": "code",
   "execution_count": null,
   "metadata": {},
   "outputs": [],
   "source": [
    "cluster_map = get_cluster_map(metrics, 1, 10)"
   ]
  },
  {
   "cell_type": "markdown",
   "metadata": {},
   "source": [
    "#### Calculate the optimum value of K "
   ]
  },
  {
   "cell_type": "code",
   "execution_count": null,
   "metadata": {},
   "outputs": [],
   "source": [
    "opt_k = DetK()\n",
    "opt_k.fit(metrics, cluster_map)"
   ]
  },
  {
   "cell_type": "code",
   "execution_count": null,
   "metadata": {},
   "outputs": [],
   "source": [
    "k = opt_k.optimal_num_clusters_\n",
    "print(f\"# Optimal Clusters for K Means = {k}\")"
   ]
  },
  {
   "cell_type": "markdown",
   "metadata": {},
   "source": [
    "#### Fit KMeans on the metrics "
   ]
  },
  {
   "cell_type": "markdown",
   "metadata": {},
   "source": [
    "- **centroids :** Cluster Centroids\n",
    "- **y_km      :** Labels for each points\n",
    "- **label_set      :** The set of labels"
   ]
  },
  {
   "cell_type": "code",
   "execution_count": null,
   "metadata": {},
   "outputs": [],
   "source": [
    "kmeans = KMeans(n_clusters=k).fit(metrics)\n",
    "labs = kmeans.labels_\n",
    "centroids = kmeans.cluster_centers_\n",
    "y_km = kmeans.predict(metrics)\n",
    "print(collections.Counter(labs))\n",
    "\n",
    "label_set = list(set(labs))"
   ]
  },
  {
   "cell_type": "markdown",
   "metadata": {},
   "source": [
    "#### Plot the clustered points "
   ]
  },
  {
   "cell_type": "code",
   "execution_count": null,
   "metadata": {},
   "outputs": [],
   "source": [
    "###################################\n",
    "#          TRY ME\n",
    "###################################\n",
    "\n",
    "def plot_cluster(X,Y,all_labels,cluster_centers_):\n",
    "    \n",
    "    c_dict={0:'lightgreen',1:'orange',2:'lightblue',3:'pink',4:'yellow'}\n",
    "    \n",
    "    for i,l in enumerate(set(all_labels)):\n",
    "        if l != -1: # not outlier\n",
    "             plt.scatter(X[Y==l,0],X[Y==l,1],\n",
    "                    s=100, c = c_dict[i],\n",
    "                    edgecolor='black',\n",
    "                    label = f'cluster {i+1}'\n",
    "                   )\n",
    "        \n",
    "    # plot the centroids\n",
    "    plt.scatter(\n",
    "        cluster_centers_[:, 0], cluster_centers_[:, 1],\n",
    "        s=75, marker='*',\n",
    "        c='red', edgecolor='black',\n",
    "        label='centroids'\n",
    "    )\n",
    "\n",
    "    plt.legend(scatterpoints=1)\n",
    "    plt.grid()\n",
    "    plt.show()"
   ]
  },
  {
   "cell_type": "code",
   "execution_count": null,
   "metadata": {},
   "outputs": [],
   "source": [
    "###################################\n",
    "#          TRY ME\n",
    "###################################\n",
    "\n",
    "plot_cluster(metrics,y_km,label_set,kmeans.cluster_centers_)"
   ]
  },
  {
   "cell_type": "code",
   "execution_count": null,
   "metadata": {},
   "outputs": [],
   "source": [
    "plt.scatter(\n",
    "    metrics[y_km == 0, 0], metrics[y_km == 0, 1],\n",
    "    s=100, c='lightgreen',\n",
    "    edgecolor='black',\n",
    "    label='cluster 1'\n",
    ")\n",
    "\n",
    "plt.scatter(\n",
    "    metrics[y_km == 1, 0], metrics[y_km == 1, 1],\n",
    "    s=100, c='orange',\n",
    "    edgecolor='black',\n",
    "    label='cluster 2'\n",
    ")\n",
    "\n",
    "plt.scatter(\n",
    "    metrics[y_km == 2, 0], metrics[y_km == 2, 1],\n",
    "    s=100, c='lightblue',\n",
    "    edgecolor='black',\n",
    "    label='cluster 3'\n",
    ")\n",
    "# plot the centroids\n",
    "plt.scatter(\n",
    "    kmeans.cluster_centers_[:, 0], kmeans.cluster_centers_[:, 1],\n",
    "    s=75, marker='*',\n",
    "    c='red', edgecolor='black',\n",
    "    label='centroids'\n",
    ")\n",
    "plt.legend(scatterpoints=1)\n",
    "plt.grid()\n",
    "plt.show()"
   ]
  },
  {
   "cell_type": "markdown",
   "metadata": {},
   "source": [
    "#### Calculate the closest point to centroid in each cluster "
   ]
  },
  {
   "cell_type": "code",
   "execution_count": null,
   "metadata": {},
   "outputs": [],
   "source": [
    "inds=collections.defaultdict(list)\n",
    "\n",
    "for i in range(len(labs)):\n",
    "    cluster = labs[i]\n",
    "    inds[cluster].append(i)"
   ]
  },
  {
   "cell_type": "code",
   "execution_count": null,
   "metadata": {},
   "outputs": [],
   "source": [
    "closests=[]\n",
    "\n",
    "for i in range(len(centroids)):\n",
    "    inds_i = inds[i]\n",
    "    dists = (metrics[inds_i] - centroids[i]) ** 2\n",
    "    closests.append(inds_i[np.argmin(dists)])"
   ]
  },
  {
   "cell_type": "code",
   "execution_count": null,
   "metadata": {},
   "outputs": [],
   "source": [
    "print(closests)"
   ]
  },
  {
   "cell_type": "markdown",
   "metadata": {},
   "source": [
    "#### Select pruned metrics "
   ]
  },
  {
   "cell_type": "code",
   "execution_count": null,
   "metadata": {},
   "outputs": [],
   "source": [
    "\n",
    "drop_list = list(off.columns[:14]) + [off_metrics.index[i] for i in closests]\n",
    "print(drop_list)"
   ]
  },
  {
   "cell_type": "markdown",
   "metadata": {},
   "source": [
    "#### Save to file "
   ]
  },
  {
   "cell_type": "code",
   "execution_count": null,
   "metadata": {},
   "outputs": [],
   "source": [
    "pruned = off.drop(off.columns.difference(drop_list), axis=1)"
   ]
  },
  {
   "cell_type": "code",
   "execution_count": null,
   "metadata": {},
   "outputs": [],
   "source": [
    "pruned.to_csv('kmeans_pruned.CSV')"
   ]
  },
  {
   "cell_type": "markdown",
   "metadata": {},
   "source": [
    "## Extension: Pruning Using Mean Shift Clustering "
   ]
  },
  {
   "cell_type": "markdown",
   "metadata": {},
   "source": [
    "#### Clustering "
   ]
  },
  {
   "cell_type": "code",
   "execution_count": null,
   "metadata": {},
   "outputs": [],
   "source": [
    "ms = MeanShift(cluster_all = False).fit(metrics)\n",
    "labs = ms.labels_\n",
    "y_km = ms.predict(metrics)\n",
    "centroids = ms.cluster_centers_\n",
    "\n",
    "label_set = list(set(labs))"
   ]
  },
  {
   "cell_type": "markdown",
   "metadata": {},
   "source": [
    "#### Plot Clusters "
   ]
  },
  {
   "cell_type": "code",
   "execution_count": null,
   "metadata": {},
   "outputs": [],
   "source": [
    "plot_cluster(metrics,y_km,labs,ms.cluster_centers_)"
   ]
  },
  {
   "cell_type": "markdown",
   "metadata": {},
   "source": [
    "#### Calculate the closest point to centroid in each cluster "
   ]
  },
  {
   "cell_type": "code",
   "execution_count": null,
   "metadata": {},
   "outputs": [],
   "source": [
    "inds = collections.defaultdict(list)\n",
    "for i in range(len(labs)):\n",
    "    inds[labs[i]].append(i)\n"
   ]
  },
  {
   "cell_type": "code",
   "execution_count": null,
   "metadata": {},
   "outputs": [],
   "source": [
    "closests=[]\n",
    "for i in range(len(centroids)):\n",
    "    inds_i = inds[i]\n",
    "    dists = (metrics[inds_i] - centroids[i]) ** 2\n",
    "    closests.append(inds_i[np.argmin(dists)])"
   ]
  },
  {
   "cell_type": "code",
   "execution_count": null,
   "metadata": {},
   "outputs": [],
   "source": [
    "print(closests)"
   ]
  },
  {
   "cell_type": "markdown",
   "metadata": {},
   "source": [
    "#### Select Pruned Metrics "
   ]
  },
  {
   "cell_type": "code",
   "execution_count": null,
   "metadata": {},
   "outputs": [],
   "source": [
    "drop_list = list(off.columns[:14]) + [off_metrics.index[i] for i in sorted(closests)]\n",
    "print(drop_list)"
   ]
  },
  {
   "cell_type": "code",
   "execution_count": null,
   "metadata": {},
   "outputs": [],
   "source": [
    "pruned = off.drop(off.columns.difference(drop_list), axis=1)"
   ]
  },
  {
   "cell_type": "markdown",
   "metadata": {},
   "source": [
    "#### Save to File "
   ]
  },
  {
   "cell_type": "code",
   "execution_count": null,
   "metadata": {},
   "outputs": [],
   "source": [
    "pruned.to_csv('mean_shift_pruned.CSV')"
   ]
  }
 ],
 "metadata": {
  "kernelspec": {
   "display_name": "Python 3",
   "language": "python",
   "name": "python3"
  },
  "language_info": {
   "codemirror_mode": {
    "name": "ipython",
    "version": 3
   },
   "file_extension": ".py",
   "mimetype": "text/x-python",
   "name": "python",
   "nbconvert_exporter": "python",
   "pygments_lexer": "ipython3",
   "version": "3.7.0"
  }
 },
 "nbformat": 4,
 "nbformat_minor": 4
}
